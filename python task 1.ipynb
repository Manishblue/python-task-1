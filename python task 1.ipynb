{
 "cells": [
  {
   "cell_type": "code",
   "execution_count": 1,
   "id": "c517f06c-e458-4169-ab23-001134a13064",
   "metadata": {},
   "outputs": [],
   "source": [
    "# Q1. Create a function which will take a list as an argument and return the product of all the numbers \n",
    "# after creating a flat list.\n",
    "\n",
    "# Use the below-given list as an argument for your function.\n",
    "\n",
    "\n",
    "# list1 = [1,2,3,4, [44,55,66, True], False, (34,56,78,89,34), {1,2,3,3,2,1}, {1:34, \"key2\": [55, 67, 78, 89], 4: (45, \n",
    "# 22, 61, 34)}, [56, 'data science'], 'Machine Learning']\n",
    "\n",
    "\n",
    "# Note: you must extract numeric keys and values of the dictionary also.\n",
    "\n"
   ]
  },
  {
   "cell_type": "code",
   "execution_count": 2,
   "id": "4c798327-4668-4dec-b665-8489cfc43273",
   "metadata": {},
   "outputs": [
    {
     "name": "stdout",
     "output_type": "stream",
     "text": [
      "0\n"
     ]
    }
   ],
   "source": [
    "from collections.abc import Iterable\n",
    "from functools import reduce\n",
    "\n",
    "def flatten_list(lst):\n",
    "    for item in lst:\n",
    "        if isinstance(item, Iterable) and not isinstance(item, (str, bytes)):\n",
    "            yield from flatten_list(item)\n",
    "        else:\n",
    "            yield item\n",
    "\n",
    "def extract_numeric_values(lst):\n",
    "    for item in lst:\n",
    "        if isinstance(item, (int, float)):\n",
    "            yield item\n",
    "        elif isinstance(item, dict):\n",
    "            yield from extract_numeric_values(item.values())\n",
    "        elif isinstance(item, Iterable) and not isinstance(item, (str, bytes)):\n",
    "            yield from extract_numeric_values(item)\n",
    "\n",
    "def product_of_numbers(lst):\n",
    "    flattened_list = list(flatten_list(lst))\n",
    "    numeric_values = list(extract_numeric_values(flattened_list))\n",
    "\n",
    "    if not numeric_values:\n",
    "        return None  # Return None if no numeric values are found\n",
    "\n",
    "    product = reduce(lambda x, y: x * y, numeric_values)\n",
    "    return product\n",
    "\n",
    "# Example usage with the provided list\n",
    "list1 = [1,2,3,4, [44,55,66, True], False, (34,56,78,89,34), {1,2,3,3,2,1}, {1:34, \"key2\": [55, 67, 78, 89], 4: (45, 22, 61, 34)}, [56, 'data science'], 'Machine Learning']\n",
    "\n",
    "result = product_of_numbers(list1)\n",
    "print(result)"
   ]
  },
  {
   "cell_type": "code",
   "execution_count": 3,
   "id": "f41cf295-a076-4158-b5ef-d9e236e0ef99",
   "metadata": {},
   "outputs": [],
   "source": [
    "# Q2. Write a python program for encrypting a message sent to you by your friend. The logic of encryption \n",
    "# should be such that, for a the output should be z. For b, the output should be y. For c, the output should \n",
    "# be x respectively. Also, the whitespace should be replaced with a dollar sign. Keep the punctuation \n",
    "# marks unchanged.\n",
    "\n",
    "\n",
    "# Input Sentence: I want to become a Data Scientist.\n",
    "\n",
    "\n",
    "# Encrypt the above input sentence using the program you just created.\n",
    "\n",
    "\n",
    "# Note: Convert the given input sentence into lowercase before encrypting. The final output should be \n",
    "# lowercase"
   ]
  },
  {
   "cell_type": "code",
   "execution_count": 4,
   "id": "5a816d7b-b026-428f-8166-67fbac64e861",
   "metadata": {},
   "outputs": [
    {
     "name": "stdout",
     "output_type": "stream",
     "text": [
      "Encrypted Message: r$dzmg$gl$yvxlnv$z$wzgz$hxrvmgrhg.\n"
     ]
    }
   ],
   "source": [
    "def encrypt_message(message):\n",
    "    encrypted_text = \"\"\n",
    "    for char in message:\n",
    "        if char.isalpha():\n",
    "            # Encrypt only alphabetic characters\n",
    "            if char.islower():\n",
    "                encrypted_text += chr(ord('z') - (ord(char) - ord('a')))\n",
    "            else:\n",
    "                encrypted_text += chr(ord('Z') - (ord(char) - ord('A')))\n",
    "        elif char.isspace():\n",
    "            # Replace whitespace with a dollar sign\n",
    "            encrypted_text += '$'\n",
    "        else:\n",
    "            # Keep punctuation marks unchanged\n",
    "            encrypted_text += char\n",
    "    return encrypted_text\n",
    "\n",
    "# Input sentence\n",
    "input_sentence = \"I want to become a Data Scientist.\"\n",
    "\n",
    "# Convert the input sentence to lowercase\n",
    "lowercase_sentence = input_sentence.lower()\n",
    "\n",
    "# Encrypt the message\n",
    "encrypted_result = encrypt_message(lowercase_sentence)\n",
    "\n",
    "# Print the encrypted result\n",
    "print(\"Encrypted Message:\", encrypted_result)"
   ]
  },
  {
   "cell_type": "code",
   "execution_count": null,
   "id": "0e5fa3b0-e7ad-4843-a359-5339c3123654",
   "metadata": {},
   "outputs": [],
   "source": []
  }
 ],
 "metadata": {
  "kernelspec": {
   "display_name": "Python 3 (ipykernel)",
   "language": "python",
   "name": "python3"
  },
  "language_info": {
   "codemirror_mode": {
    "name": "ipython",
    "version": 3
   },
   "file_extension": ".py",
   "mimetype": "text/x-python",
   "name": "python",
   "nbconvert_exporter": "python",
   "pygments_lexer": "ipython3",
   "version": "3.10.8"
  }
 },
 "nbformat": 4,
 "nbformat_minor": 5
}
